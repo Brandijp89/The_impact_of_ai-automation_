{
 "cells": [
  {
   "cell_type": "code",
   "execution_count": 1,
   "id": "c4702dfe-5c3c-4460-b948-b6c1c442d7f2",
   "metadata": {
    "colab": {
     "base_uri": "https://localhost:8080/"
    },
    "id": "c4702dfe-5c3c-4460-b948-b6c1c442d7f2",
    "outputId": "a557496d-9517-44e6-e740-efa3b2b8bdbb"
   },
   "outputs": [
    {
     "name": "stdout",
     "output_type": "stream",
     "text": [
      "Requirement already satisfied: seaborn in c:\\users\\sioka\\anaconda3\\lib\\site-packages (0.12.2)\n",
      "Requirement already satisfied: numpy!=1.24.0,>=1.17 in c:\\users\\sioka\\anaconda3\\lib\\site-packages (from seaborn) (1.24.3)\n",
      "Requirement already satisfied: pandas>=0.25 in c:\\users\\sioka\\anaconda3\\lib\\site-packages (from seaborn) (2.0.3)\n",
      "Requirement already satisfied: matplotlib!=3.6.1,>=3.1 in c:\\users\\sioka\\anaconda3\\lib\\site-packages (from seaborn) (3.7.2)\n",
      "Requirement already satisfied: contourpy>=1.0.1 in c:\\users\\sioka\\anaconda3\\lib\\site-packages (from matplotlib!=3.6.1,>=3.1->seaborn) (1.0.5)\n",
      "Requirement already satisfied: cycler>=0.10 in c:\\users\\sioka\\anaconda3\\lib\\site-packages (from matplotlib!=3.6.1,>=3.1->seaborn) (0.11.0)\n",
      "Requirement already satisfied: fonttools>=4.22.0 in c:\\users\\sioka\\anaconda3\\lib\\site-packages (from matplotlib!=3.6.1,>=3.1->seaborn) (4.25.0)\n",
      "Requirement already satisfied: kiwisolver>=1.0.1 in c:\\users\\sioka\\anaconda3\\lib\\site-packages (from matplotlib!=3.6.1,>=3.1->seaborn) (1.4.4)\n",
      "Requirement already satisfied: packaging>=20.0 in c:\\users\\sioka\\anaconda3\\lib\\site-packages (from matplotlib!=3.6.1,>=3.1->seaborn) (23.1)\n",
      "Requirement already satisfied: pillow>=6.2.0 in c:\\users\\sioka\\anaconda3\\lib\\site-packages (from matplotlib!=3.6.1,>=3.1->seaborn) (9.4.0)\n",
      "Requirement already satisfied: pyparsing<3.1,>=2.3.1 in c:\\users\\sioka\\anaconda3\\lib\\site-packages (from matplotlib!=3.6.1,>=3.1->seaborn) (3.0.9)\n",
      "Requirement already satisfied: python-dateutil>=2.7 in c:\\users\\sioka\\anaconda3\\lib\\site-packages (from matplotlib!=3.6.1,>=3.1->seaborn) (2.8.2)\n",
      "Requirement already satisfied: pytz>=2020.1 in c:\\users\\sioka\\anaconda3\\lib\\site-packages (from pandas>=0.25->seaborn) (2023.3.post1)\n",
      "Requirement already satisfied: tzdata>=2022.1 in c:\\users\\sioka\\anaconda3\\lib\\site-packages (from pandas>=0.25->seaborn) (2023.3)\n",
      "Requirement already satisfied: six>=1.5 in c:\\users\\sioka\\anaconda3\\lib\\site-packages (from python-dateutil>=2.7->matplotlib!=3.6.1,>=3.1->seaborn) (1.16.0)\n"
     ]
    }
   ],
   "source": [
    "!pip install seaborn"
   ]
  },
  {
   "cell_type": "code",
   "execution_count": 8,
   "id": "b586d45f-abf2-41bd-b879-5c1cb7335074",
   "metadata": {
    "colab": {
     "base_uri": "https://localhost:8080/"
    },
    "id": "b586d45f-abf2-41bd-b879-5c1cb7335074",
    "outputId": "3c0e145d-d6bf-4763-a5e0-39dfd90c8176"
   },
   "outputs": [
    {
     "name": "stdout",
     "output_type": "stream",
     "text": [
      "     Objective       Status  Days Remaining On Time\n",
      "0  Objective 1    Completed              17     Yes\n",
      "1  Objective 2  In Progress              79     Yes\n",
      "2  Objective 3  Not Started             138     Yes\n"
     ]
    }
   ],
   "source": [
    "from datetime import datetime\n",
    "import pandas as pd\n",
    "\n",
    "# Define objectives with start dates, deadlines, and statuses\n",
    "objectives = {\n",
    "    \"Objective 1\": {\n",
    "        \"description\": \"Analyze job displacement trends in industries with significant AI adoption.\",\n",
    "        \"start_date\": datetime(2024, 9, 1),\n",
    "        \"deadline\": datetime(2024, 12, 1),\n",
    "        \"status\": \"Completed\"  # Update to 'Completed' or 'In Progress' as needed\n",
    "    },\n",
    "    \"Objective 2\": {\n",
    "        \"description\": \"Identify obsolete skills and new competencies required in an AI-driven workforce.\",\n",
    "        \"start_date\": datetime(2024, 12, 1),\n",
    "        \"deadline\": datetime(2025, 2, 1),\n",
    "        \"status\": \"In Progress\"  # Update based on project progress\n",
    "    },\n",
    "    \"Objective 3\": {\n",
    "        \"description\": \"Examine societal challenges like inequality and the digital divide caused by AI automation.\",\n",
    "        \"start_date\": datetime(2025, 2, 1),\n",
    "        \"deadline\": datetime(2025, 4, 1),\n",
    "        \"status\": \"Not Started\"  # Update based on project progress\n",
    "    }\n",
    "}\n",
    "\n",
    "# Function to check if objectives are on track\n",
    "def check_objective_progress(objectives):\n",
    "    today = datetime.now()\n",
    "    progress_report = []\n",
    "\n",
    "    for obj_name, details in objectives.items():\n",
    "        # Calculate days remaining for each objective\n",
    "        days_remaining = (details[\"deadline\"] - today).days\n",
    "        on_time = \"Yes\" if today <= details[\"deadline\"] else \"No\"\n",
    "\n",
    "        # Collect report data\n",
    "        progress_report.append({\n",
    "            \"Objective\": obj_name,\n",
    "            \"Status\": details[\"status\"],\n",
    "            \"Days Remaining\": max(0, days_remaining),\n",
    "            \"On Time\": on_time\n",
    "        })\n",
    "\n",
    "    return pd.DataFrame(progress_report)\n",
    "\n",
    "# Generate the progress report\n",
    "progress_report_df = check_objective_progress(objectives)\n",
    "print(progress_report_df)\n"
   ]
  },
  {
   "cell_type": "code",
   "execution_count": 6,
   "id": "196f33c0-adba-4582-9445-c833dafafe22",
   "metadata": {
    "colab": {
     "base_uri": "https://localhost:8080/",
     "height": 722
    },
    "id": "196f33c0-adba-4582-9445-c833dafafe22",
    "outputId": "1096b611-e294-4e8f-83d7-b6895d1cd544"
   },
   "outputs": [
    {
     "name": "stdout",
     "output_type": "stream",
     "text": [
      "Model Accuracy: 79.50%\n",
      "\n",
      "Classification Report:\n",
      "               precision    recall  f1-score   support\n",
      "\n",
      "    Low Risk       0.81      0.79      0.80       103\n",
      "   High Risk       0.78      0.80      0.79        97\n",
      "\n",
      "    accuracy                           0.80       200\n",
      "   macro avg       0.80      0.80      0.79       200\n",
      "weighted avg       0.80      0.80      0.80       200\n",
      "\n"
     ]
    },
    {
     "data": {
      "image/png": "[encoded data removed]",
      "text/plain": [
       "<Figure size 600x400 with 2 Axes>"
      ]
     },
     "metadata": {},
     "output_type": "display_data"
    },
    {
     "name": "stdout",
     "output_type": "stream",
     "text": [
      "\n",
      "Success Criteria Summary:\n",
      "- The project aims for almost 80% accuracy in predicting job displacement trends due to AI.\n",
      "- Objectives must be completed within the timeline specified.\n",
      "- The final report will include data-driven recommendations on workforce skills and policy adaptations.\n",
      "\n"
     ]
    }
   ],
   "source": [
    "import numpy as np\n",
    "from sklearn.model_selection import train_test_split\n",
    "from sklearn.linear_model import LogisticRegression\n",
    "from sklearn.metrics import accuracy_score, classification_report, confusion_matrix\n",
    "import pandas as pd\n",
    "import matplotlib.pyplot as plt\n",
    "import seaborn as sns\n",
    "\n",
    "np.random.seed(0)\n",
    "num_samples = 1000\n",
    "ai_dataset = pd.DataFrame({\n",
    "    'Job_Title': np.random.choice(['Analyst', 'Developer', 'Manager', 'Technician'], num_samples),\n",
    "    'Industry': np.random.choice(['Manufacturing', 'Customer Service', 'Healthcare', 'Retail'], num_samples),\n",
    "    'AI Adoption Level': np.random.choice(['High', 'Medium', 'Low'], num_samples),\n",
    "    'AI Adoption Score': np.random.rand(num_samples) * 100 + np.random.normal(0, 20, num_samples),  # More noise\n",
    "    'Automation Risk': np.random.choice(['High', 'Medium', 'Low'], num_samples),\n",
    "    'Automation Risk Score': np.random.rand(num_samples) * 100 + np.random.normal(0, 20, num_samples),  # More noise\n",
    "    'Required_Skills': np.random.choice(['Data Analysis', 'Machine Learning', 'Sales', 'Customer Support'], num_samples),\n",
    "    'Salary (USD)': np.random.randint(30000, 120000, num_samples),\n",
    "    'Job Growth Projection': np.random.choice(['Increase', 'Stable', 'Decrease'], num_samples),\n",
    "    'Job Growth Score': np.random.rand(num_samples) * 100 + np.random.normal(0, 20, num_samples),  # More noise\n",
    "    'Equivalencies': np.random.choice(['Yes', 'No'], num_samples)\n",
    "})\n",
    "\n",
    "ai_dataset['Displacement_Risk'] = ((ai_dataset['Automation Risk Score'] > 70) |\n",
    "                                   (np.random.rand(num_samples) > 0.8)).astype(int)\n",
    "\n",
    "# Split the dataset into features and target\n",
    "X = ai_dataset[['AI Adoption Score', 'Automation Risk Score', 'Job Growth Score']]\n",
    "y = ai_dataset['Displacement_Risk']\n",
    "\n",
    "# Split the data into training and testing sets\n",
    "X_train, X_test, y_train, y_test = train_test_split(X, y, test_size=0.2, random_state=0)\n",
    "\n",
    "# Use Logistic Regression for a simpler model\n",
    "log_reg = LogisticRegression(random_state=0, max_iter=100)\n",
    "log_reg.fit(X_train, y_train)\n",
    "\n",
    "# Make predictions and evaluate accuracy\n",
    "y_pred = log_reg.predict(X_test)\n",
    "accuracy = accuracy_score(y_test, y_pred)\n",
    "\n",
    "# Generate a classification report for detailed analysis\n",
    "report = classification_report(y_test, y_pred, target_names=[\"Low Risk\", \"High Risk\"])\n",
    "\n",
    "# Output results\n",
    "print(f\"Model Accuracy: {accuracy:.2%}\")\n",
    "print(\"\\nClassification Report:\\n\", report)\n",
    "\n",
    "# Plot confusion matrix\n",
    "conf_matrix = confusion_matrix(y_test, y_pred)\n",
    "plt.figure(figsize=(6, 4))\n",
    "sns.heatmap(conf_matrix, annot=True, fmt='d', cmap='Blues', xticklabels=[\"Low Risk\", \"High Risk\"], yticklabels=[\"Low Risk\", \"High Risk\"])\n",
    "plt.xlabel(\"Predicted Label\")\n",
    "plt.ylabel(\"True Label\")\n",
    "plt.title(\"Confusion Matrix for Job Displacement Prediction Model\")\n",
    "plt.show()\n",
    "\n",
    "# Success Criteria Summary\n",
    "success_criteria = \"\"\"\n",
    "Success Criteria Summary:\n",
    "- The project aims for almost 80% accuracy in predicting job displacement trends due to AI.\n",
    "- Objectives must be completed within the timeline specified.\n",
    "- The final report will include data-driven recommendations on workforce skills and policy adaptations.\n",
    "\"\"\"\n",
    "print(success_criteria)\n"
   ]
  },
  {
   "cell_type": "code",
   "execution_count": null,
   "id": "f3a46817-c830-4f50-a47a-1f261dc94e01",
   "metadata": {
    "id": "f3a46817-c830-4f50-a47a-1f261dc94e01"
   },
   "outputs": [],
   "source": []
  }
 ],
 "metadata": {
  "colab": {
   "provenance": []
  },
  "kernelspec": {
   "display_name": "Python 3 (ipykernel)",
   "language": "python",
   "name": "python3"
  },
  "language_info": {
   "codemirror_mode": {
    "name": "ipython",
    "version": 3
   },
   "file_extension": ".py",
   "mimetype": "text/x-python",
   "name": "python",
   "nbconvert_exporter": "python",
   "pygments_lexer": "ipython3",
   "version": "3.11.5"
  }
 },
 "nbformat": 4,
 "nbformat_minor": 5
}
